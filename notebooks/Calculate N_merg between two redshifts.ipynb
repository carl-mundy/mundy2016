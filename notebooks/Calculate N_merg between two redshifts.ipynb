{
 "cells": [
  {
   "cell_type": "markdown",
   "metadata": {},
   "source": [
    "# Number of mergers a galaxy undergoes across a redshift range"
   ]
  },
  {
   "cell_type": "code",
   "execution_count": 3,
   "metadata": {
    "collapsed": true
   },
   "outputs": [],
   "source": [
    "%matplotlib inline"
   ]
  },
  {
   "cell_type": "code",
   "execution_count": 4,
   "metadata": {
    "collapsed": false
   },
   "outputs": [
    {
     "name": "stderr",
     "output_type": "stream",
     "text": [
      "/home/ppxcjm/anaconda/lib/python2.7/site-packages/IPython/kernel/__init__.py:13: ShimWarning: The `IPython.kernel` package has been deprecated. You should import from ipykernel or jupyter_client instead.\n",
      "  \"You should import from ipykernel or jupyter_client instead.\", ShimWarning)\n"
     ]
    }
   ],
   "source": [
    "# Import everything we need for this calculation\n",
    "import numpy as np\n",
    "from astropy.cosmology import FlatLambdaCDM\n",
    "from scipy.integrate import quad\n",
    "import astropy.units as u\n",
    "import matplotlib.pyplot as plt\n",
    "\n",
    "# Set the cosmology we are using\n",
    "cosmo = FlatLambdaCDM(H0=70, Om0=0.3)"
   ]
  },
  {
   "cell_type": "markdown",
   "metadata": {},
   "source": [
    "Define the function which provides the average time between mergers. In Ownsworth et al. (2014), this is given by \n",
    "\n",
    "$$\\Gamma(z) = \\frac{\\tau_m(z)}{f_m(z)}$$\n",
    "\n",
    "The merger fraction (careful to note this is the *merger* fraction and not the *pair* fraction) is usually given by the form $f_m = f_0(1+z)^m$."
   ]
  },
  {
   "cell_type": "code",
   "execution_count": 5,
   "metadata": {
    "collapsed": true
   },
   "outputs": [],
   "source": [
    "def Gamma_fn(z, tau_m, f0, m, C=0.6):\n",
    "\n",
    "    # Average time between mergers = tau_m / f_m\n",
    "    return tau_m / ((f0*(1+z)**m)*C)"
   ]
  },
  {
   "cell_type": "markdown",
   "metadata": {},
   "source": [
    "The number of mergers a galaxy experiences, on average, is then the integral of $\\Gamma(z)$ over time, as this represents the average time between merger events, as a function of redshift. This is written as\n",
    "\n",
    "$$N_\\text{merg} = \\int_{t_1}^{t_2} \\frac{dt}{\\Gamma(z)}$$\n",
    "\n",
    "but needs to be written in terms of redshift $z$ rather that time $t$. If we substitute $dt = -\\frac{dz}{(1+z)H(z)}$ into this equation, where the minus comes from reversing the integration limits, we get\n",
    "\n",
    "$$N_\\text{merg} = -\\int_{z_1}^{z_2} \\frac{1}{(1+z)H(z)}\\frac{dz}{\\Gamma(z)}$$\n",
    "\n",
    "This is equivalent to the formalism presented in Ownsworth et al. (2014) and Asa Bluck's papers as $H(z) = H_0E(z) = t_H^{-1}E(z)$.\n",
    "\n",
    "Below, `int_fn()` encodes the expression to be integrated in the above equation."
   ]
  },
  {
   "cell_type": "code",
   "execution_count": 6,
   "metadata": {
    "collapsed": true
   },
   "outputs": [],
   "source": [
    "def int_fn(z, tau_m, f0, m, C_merg=0.6):\n",
    "    \n",
    "    return -1. / (1+z) / cosmo.H(z) / Gamma_fn(z, tau_m, f0, m, C_merg)"
   ]
  },
  {
   "cell_type": "markdown",
   "metadata": {},
   "source": [
    "Work out the number of mergers a galaxy undergoes across a redshift range, and the associated error on this value.\n",
    "\n",
    "To do this, we generate N samples of the parameters from a normal distribution using their average values and associated errors."
   ]
  },
  {
   "cell_type": "code",
   "execution_count": 20,
   "metadata": {
    "collapsed": false
   },
   "outputs": [
    {
     "name": "stdout",
     "output_type": "stream",
     "text": [
      "Using 4910 / 5000 realizations...\n",
      "N_merg = 1.25 (+1.28, -0.51)\n"
     ]
    },
    {
     "data": {
      "text/plain": [
       "<matplotlib.text.Text at 0x2b1f096ea6d0>"
      ]
     },
     "execution_count": 20,
     "metadata": {},
     "output_type": "execute_result"
    },
    {
     "data": {
      "image/png": "[encoded data removed]",
      "text/plain": [
       "<matplotlib.figure.Figure at 0x2b1ef35ba050>"
      ]
     },
     "metadata": {},
     "output_type": "display_data"
    }
   ],
   "source": [
    "# =====================================\n",
    "# Best-fit parameters and their errors\n",
    "# =====================================\n",
    "# Ownsworth et al. (2014)\n",
    "tau_m, e_tau_m = 0.4*u.Gyr, 0.2*u.Gyr\n",
    "f0, e_f0 = 0.009, 0.002\n",
    "m, e_m = 2.9, 0.2\n",
    "C_merg = 0.6\n",
    "\n",
    "# # Mundy et al. (2016)\n",
    "# tau_m, e_tau_m = 0.6*u.Gyr, 0.2*u.Gyr # Gyr\n",
    "# f0, e_f0 = 0.025, 0.004\n",
    "# m, e_m = 0.72, 0.20\n",
    "# C_merg = 0.6\n",
    "\n",
    "# Number of realizations\n",
    "N = 5000\n",
    "\n",
    "# Redshift bounds\n",
    "z_min = 0.3\n",
    "z_max = 3.0\n",
    "\n",
    "# =====================================\n",
    "\n",
    "taus = (e_tau_m * np.random.randn(N)) + tau_m\n",
    "f0s = (e_f0 * np.random.randn(N)) + f0\n",
    "ms = (e_m * np.random.randn(N)) + m\n",
    "\n",
    "# Ensure things are physical\n",
    "mask = np.logical_and(f0s > 0., taus > 0.)\n",
    "taus, f0s, ms = taus[mask], f0s[mask], ms[mask]\n",
    "\n",
    "N_merg = []\n",
    "\n",
    "print 'Using {0} / {1} realizations...'.format(mask.sum(), N)\n",
    "\n",
    "for i in range(mask.sum()):\n",
    "    N_merg_i = quad(int_fn, z_max, z_min, args=(taus[i], \n",
    "                                f0s[i], ms[i], C_merg))[0]\n",
    "    N_merg.append(N_merg_i)\n",
    "    \n",
    "N_av = np.nanpercentile(N_merg, 50.)\n",
    "N_l = np.nanpercentile(N_merg, 15.6)\n",
    "N_u = np.nanpercentile(N_merg, 84.4)\n",
    "\n",
    "print 'N_merg = {0:1.2f} (+{1:1.2f}, -{2:1.2f})'.format(\n",
    "            N_av, N_u-N_av, N_av-N_l)\n",
    "\n",
    "# Plot the distribution\n",
    "# =====================================\n",
    "fig, ax = plt.subplots(1, 1)\n",
    "n, bins, patches = ax.hist(N_merg, bins=np.arange(0, \n",
    "                            N_av + 3.*(N_u-N_av), N_av/10), \n",
    "                            normed=True, histtype='step')\n",
    "# Set plot limits and labels\n",
    "ax.plot([N_av, N_av], [0, n.max()*1.1], '-r', lw=2)\n",
    "ax.plot([N_l, N_l], [0, n.max()*1.1], '--r', lw=2)\n",
    "ax.plot([N_u, N_u], [0, n.max()*1.1], '--r', lw=2)\n",
    "ax.set_ylim(0, n.max()*1.1)\n",
    "ax.set_xlim(0, N_u*2.5)\n",
    "ax.set_xlabel('$N_\\mathrm{merg}$')\n",
    "# ====================================="
   ]
  },
  {
   "cell_type": "markdown",
   "metadata": {},
   "source": [
    "Resulting distribution of $N_\\text{merg}$ identifies the upper and lower $1\\sigma$ uncertainties on the obtained value.\n",
    "\n",
    "It is worth noting that if the parameters are not foced into being physical (i.e. ensuring a postitive $f_0$), you recover the vlaue of $N_\\text{merg} = 1.2$ quoted in Ownsworth et al. (2014). However, enforcing these conditions retrieves a larger value of $N_\\text{merg} = 1.3$. What's more, the errors quoted in Ownsworth et al. (2014) are underestimated, with $N_\\text{merg} = 1.3^{+1.3}_{-0.5}$ compared to the originally quoted $N_\\text{merg} = 1.2 \\pm 0.5$."
   ]
  },
  {
   "cell_type": "code",
   "execution_count": null,
   "metadata": {
    "collapsed": true
   },
   "outputs": [],
   "source": []
  }
 ],
 "metadata": {
  "kernelspec": {
   "display_name": "Python 2",
   "language": "python",
   "name": "python2"
  },
  "language_info": {
   "codemirror_mode": {
    "name": "ipython",
    "version": 2
   },
   "file_extension": ".py",
   "mimetype": "text/x-python",
   "name": "python",
   "nbconvert_exporter": "python",
   "pygments_lexer": "ipython2",
   "version": "2.7.11"
  }
 },
 "nbformat": 4,
 "nbformat_minor": 0
}
