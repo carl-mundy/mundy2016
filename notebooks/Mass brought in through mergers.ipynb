{
 "cells": [
  {
   "cell_type": "markdown",
   "metadata": {},
   "source": [
    "# Added Stellar Mass via Mergers"
   ]
  },
  {
   "cell_type": "markdown",
   "metadata": {},
   "source": [
    "**We wish to calculate the (average) stellar mass brought in through mergers over time.** If we know the *rate* at which galaxies undergo a merging event (as a function of redshift), and the average stellar mass of the companion galaxy (as a function of redshift), we can calculate this quantity.\n",
    "\n",
    "### Definition of added mass from mergers\n",
    "\n",
    "$\\mathcal{R}_\\text{merg}(z)$ gives the number of merger events per galaxy per unit time. Therefore the integral of this function, multiplied by the (average) stellar mass of the companion gives the stellar mass brought in over time. This can be written as \n",
    "\n",
    "$$\\mathcal{M}_\\text{merg}^{+} = \\int \\mathcal{R}_\\text{merg}(z) \\mathcal{M}_*^{\\mu}(z)\\ \\mathrm{d}t$$\n",
    "\n",
    "where $\\mathcal{M}_*^{\\mu}(z)$ is the average stellar mass of the merging companion with redshift and $\\mathcal{R}_\\text{merg}(z) = \\frac{f_\\text{merg}}{T_\\text{obs}} = \\frac{C_\\text{merg} f_\\text{pair}}{T_\\text{obs}}$ is the rate of merging events per galaxy. Converting this integral to be a function of redshift simply gives\n",
    "\n",
    "$$\\mathcal{M}_\\text{merg}^{+} = \\int \\frac{\\mathcal{R}_\\text{merg}(z) \\mathcal{M}_*^{\\mu}(z)}{(1+z)H(z)}\\ \\mathrm{d}z$$\n",
    "\n",
    "### Average mass of the primary sample\n",
    "\n",
    "We can use galaxy stellar mass functions, $\\phi(z, \\mathcal{M}_*)$, to calculate the average stellar mass, $\\mathcal{M}_*^1$, of a primary sample of galaxies selected above some stellar mass within a redshift range. This is written as\n",
    "\n",
    "$$\\mathcal{M}_*^1(z) = \\frac{\\int^{M^1_\\text{max}}_{M_\\text{min}^1} \\phi(z, \\mathcal{M}_*) \\mathcal{M}_*\\ \\mathrm{d}\\mathcal{M}_*}{\\int^{M^1_\\text{max}}_{M_\\text{min}^1} \\phi(z, \\mathcal{M}_*)\\ \\mathrm{d}\\mathcal{M}_*}$$\n",
    "\n",
    "where $M^1_\\text{max}$ and $M_\\text{min}^1$ are the maximum and minimum stellar masses of the primary galaxy sample, respectively.\n",
    "\n",
    "### Average mass of a companion galaxy\n",
    "\n",
    "A similar calculation can be performed to calculate the average mass that a companion galaxy will have over the same redshift. The integrals are performed over the stellar mass range between $\\mathcal{M}_*^1$ and $\\mathcal{M}_*^1 / \\mu$, where $\\mu$ is the stellar mass ratio of interest.\n",
    "\n",
    "$$\\mathcal{M}_*^2(z) = \\frac{\\int^{\\mathcal{M}_*^1}_{\\mathcal{M}_*^1 / \\mu} \\phi(z, \\mathcal{M}_*) \\mathcal{M}_*\\ \\mathrm{d}\\mathcal{M}_*}{\\int^{\\mathcal{M}_*^1}_{\\mathcal{M}_*^1 / \\mu} \\phi(z, \\mathcal{M}_*)\\ \\mathrm{d}\\mathcal{M}_*}$$\n",
    "\n",
    "### Calculating the added mass through mergers\n",
    "\n",
    "We then use the equation at the start of this document to calculate the added mass through mergers, which gives\n",
    "\n",
    "$$\\mathcal{M}_\\text{merg}^{+} = \\int \\frac{\\mathcal{R}_\\text{merg}(z) \\mathcal{M}_*^{2}(z)}{(1+z)H(z)}\\ \\mathrm{d}z$$\n",
    "\n",
    "---"
   ]
  },
  {
   "cell_type": "code",
   "execution_count": 1,
   "metadata": {
    "collapsed": false
   },
   "outputs": [],
   "source": [
    "%matplotlib inline"
   ]
  },
  {
   "cell_type": "code",
   "execution_count": 7,
   "metadata": {
    "collapsed": false
   },
   "outputs": [],
   "source": [
    "import numpy as np\n",
    "from astropy.cosmology import FlatLambdaCDM\n",
    "from scipy.integrate import quad\n",
    "import astropy.units as u\n",
    "import matplotlib.pyplot as plt\n",
    "\n",
    "cosmo = FlatLambdaCDM(H0=70, Om0=0.3)"
   ]
  },
  {
   "cell_type": "code",
   "execution_count": 3,
   "metadata": {
    "collapsed": false
   },
   "outputs": [],
   "source": [
    "# Define the functions we will need for this analysis\n",
    "def schecter(m, m_star, alpha, phi_star):\n",
    "    # Return the number density of a galaxy with mass m\n",
    "    return np.log10(10)*phi_star*(10**((m-m_star)*(1+alpha)) * np.exp(-10**(m-m_star)))\n",
    "\n",
    "def numerator(m, *gsmf_args):\n",
    "    # Define the numerator of above function\n",
    "    return schecter(m, *gsmf_args) * 10**m\n",
    "\n",
    "def denominator(m, *gsmf_args):\n",
    "    # Define the denominator of the above function\n",
    "    return schecter(m, *gsmf_args)\n",
    "\n",
    "def fm(z, f0, m, C_merg=0.6):\n",
    "    # Return the merger fraction at redshift z\n",
    "    return C_merg*(f0*((1+z)**m))\n",
    "\n",
    "def R_merg(z, t_obs, *fm_args):\n",
    "    # Return the fractional merger rate at redshift z\n",
    "    return fm(z, *fm_args) / t_obs\n",
    "\n",
    "def int_fn(z, *r_args):\n",
    "    # Define the function to integrate, giving the number of mergers N_merg\n",
    "    return (R_merg(z, *r_args) / (1+z) / cosmo.H(z))"
   ]
  },
  {
   "cell_type": "code",
   "execution_count": 4,
   "metadata": {
    "collapsed": true
   },
   "outputs": [],
   "source": [
    "# Define the GSMF parameters and errors for bootstrap analysis\n",
    "gsmf_z = [0.2, 0.5, 1.0, 1.5, 2.0, 2.5, 3.0, 3.5]\n",
    "gsmf_p = [[11.22-0.05, -1.29, 12.16e-4],\n",
    "          [11.00-0.05, -1.17, 16.25e-4],\n",
    "          [10.87-0.05, -1.02, 13.91e-4],\n",
    "          [10.81-0.05, -0.86, 10.13e-4],\n",
    "          [10.81-0.05, -0.55, 4.79e-4],\n",
    "          [11.03-0.05, -1.01, 1.93e-4],\n",
    "          [11.49-0.05, -1.45, 0.09e-4]] # -0.05 to convert from Kroupa (2001) -> Chabrier (2003) IMF\n",
    "gsmf_e = [[0.03, 0.01, 1.65e-4],\n",
    "          [0.02, 0.01, 1.23e-4],\n",
    "          [0.02, 0.02, 1.12e-4],\n",
    "          [0.02, 0.09, 1.07e-4],\n",
    "          [0.05, 0.23, 0.73e-4],\n",
    "          [0.12, 0.43, 0.65e-4],\n",
    "          [0.33, 0.65, 0.12e-4]]"
   ]
  },
  {
   "cell_type": "code",
   "execution_count": 13,
   "metadata": {
    "collapsed": true
   },
   "outputs": [],
   "source": [
    "# Insert the f_m fit details\n",
    "\n",
    "# Number of realisations\n",
    "N = 50\n",
    "\n",
    "# # log M*/M_sun > 11 (30kpc)\n",
    "# ########################################\n",
    "# # Define the f_m\n",
    "# f0, ef0 = 0.025, 0.005\n",
    "# m, em = 0.62, 0.22\n",
    "# t_obs, et_obs = 0.60*u.Gyr, 0.2*u.Gyr\n",
    "# # Mass this is for\n",
    "# gt_mass = 11.\n",
    "# # Stellar mass ratio\n",
    "# mu = 4.\n",
    "\n",
    "# log M*/M_sun > 10 (30kpc)\n",
    "########################################\n",
    "# Define the f_m\n",
    "f0, ef0 = 0.025, 0.002\n",
    "m, em = 1.06, 0.15\n",
    "t_obs, et_obs = 0.60*u.Gyr, 0.2*u.Gyr\n",
    "# Mass this is for\n",
    "gt_mass = 10.\n",
    "# Stellar mass ratio\n",
    "mu = 4."
   ]
  },
  {
   "cell_type": "code",
   "execution_count": 14,
   "metadata": {
    "collapsed": false,
    "scrolled": false
   },
   "outputs": [
    {
     "name": "stdout",
     "output_type": "stream",
     "text": [
      "0.2 0.5 9.33237172336 (+ 0.126624918157 ) (- 0.119924825436 )\n",
      "0.5 1.0 9.37934340261 (+ 0.147944673267 ) (- 0.194705081218 )\n",
      "1.0 1.5 9.26603546485 (+ 0.0869001462218 ) (- 0.123494811579 )\n",
      "1.5 2.0 9.18473267768 (+ 0.126785222349 ) (- 0.228356525542 )\n",
      "2.0 2.5 9.17705888874 (+ 0.212437067379 ) (- 0.205969629557 )\n",
      "2.5 3.0 9.07894486708 (+ 0.261292346628 ) (- 0.217143839755 )\n",
      "3.0 3.5 9.08539608247 (+ 0.276606037417 ) (- 0.403743790751 )\n",
      "Over entire redshift range mass from these mergers is: 10.07 (+0.21 -0.16) log(M*/M_sol)\n"
     ]
    },
    {
     "data": {
      "image/png": "[encoded data removed]",
      "text/plain": [
       "<matplotlib.figure.Figure at 0x2af7ab9c00d0>"
      ]
     },
     "metadata": {},
     "output_type": "display_data"
    }
   ],
   "source": [
    "# Calculate the average value using integrals\n",
    "def get_av(top, bot, ml, mh, *int_args):\n",
    "    # Get the integral of some function between \n",
    "    return quad(top, ml, mh, args=int_args)[0] / quad(bot, ml, mh, args=int_args)[0]\n",
    "\n",
    "# Return the average and 1-sigma limits of a distribution\n",
    "def get_sigma(dist):\n",
    "    av = np.nanpercentile(dist, 50.)\n",
    "    l = np.nanpercentile(dist, 15.6)\n",
    "    u = np.nanpercentile(dist, 84.4)\n",
    "    return np.log10(l), np.log10(av), np.log10(u)\n",
    "\n",
    "\n",
    "# Set up record arrays\n",
    "MergerMass, e_MergerMass = [], []\n",
    "PriMass, e_PriMass = [], []\n",
    "\n",
    "for i in range(len(gsmf_z)-1):\n",
    "    zl, zh = gsmf_z[i], gsmf_z[i+1]\n",
    "    \n",
    "    gsmf_args = gsmf_p[i]\n",
    "    gsmf_errs = gsmf_e[i]\n",
    "    \n",
    "    # Generate realisations of the GSMF parameters\n",
    "    m_stars = (gsmf_errs[0] * np.random.randn(N)) + gsmf_args[0]\n",
    "    alphas = (gsmf_errs[1] * np.random.randn(N)) + gsmf_args[1]\n",
    "    phi_stars = (gsmf_errs[2] * np.random.randn(N)) + gsmf_args[2]\n",
    "    \n",
    "    # Generate realisations of the fm parameters\n",
    "    f0s = (ef0 * np.random.randn(N)) + f0\n",
    "    ms = (em * np.random.randn(N)) + m\n",
    "    t_obss = (et_obs * np.random.randn(N)) + t_obs\n",
    "    \n",
    "    merger_mass = []\n",
    "    pri_mass = []\n",
    "    \n",
    "    for j in range(N):\n",
    "        # Package GSMF realisation parameters\n",
    "        gsmf_args_j = [m_stars[j], alphas[j], phi_stars[j]]\n",
    "    \n",
    "        # Get the average mass of a primary galaxy\n",
    "        M_pri = get_av(numerator, denominator, gt_mass, 12., *gsmf_args_j)\n",
    "        pri_mass.append(M_pri)\n",
    "\n",
    "        # Get the average mass of a companion\n",
    "        M_comp = get_av(numerator, denominator, np.log10(M_pri/mu), np.log10(M_pri), *gsmf_args_j)\n",
    "        \n",
    "        # Calculate number of mergers per galaxy over this redshift range\n",
    "        N_merg = quad(int_fn, zl, zh, args=(t_obss[j], f0s[j], ms[j]))[0]\n",
    "\n",
    "        # Calculate the mass given through mergers\n",
    "        M_merg = N_merg * M_comp\n",
    "        \n",
    "        merger_mass.append(M_merg)\n",
    "    \n",
    "    # Calculate the average and 1sigma statistics\n",
    "    M_l, M_av, M_u = get_sigma(merger_mass)\n",
    "    P_l, P_av, P_u = get_sigma(pri_mass)\n",
    "    \n",
    "    # Save the results\n",
    "    MergerMass.append(M_av)\n",
    "    e_MergerMass.append([M_u-M_av, M_av-M_l])\n",
    "    PriMass.append(P_av)\n",
    "    e_PriMass.append([P_u-P_av, P_av-P_l])\n",
    "        \n",
    "    print zl, zh, M_av, '(+', M_av-M_l, ') (-', M_u-M_av, ')'\n",
    "        \n",
    "# Sort out plot\n",
    "e_MergerMass = np.array(e_MergerMass)\n",
    "e_PriMass = np.array(e_PriMass)\n",
    "\n",
    "# Set up figure\n",
    "fig, ax = plt.subplots(1, 1, figsize=(8,4))\n",
    "\n",
    "# Plot the primary sample evolution\n",
    "ax.errorbar(gsmf_z[:-1]+np.diff(gsmf_z)/2., PriMass, yerr=[e_PriMass[:,0], e_PriMass[:,1]],\n",
    "           c='r', fmt='o', capsize=0, lw=2., label='primary sample mass')\n",
    "\n",
    "# Plot the mass from mergers within each redshift bin\n",
    "ax.errorbar(gsmf_z[1:], MergerMass, yerr=[e_MergerMass[:,0], e_MergerMass[:,1]], \n",
    "            c='k',fmt='o', capsize=0, lw=2., label='merger mass added in bin')\n",
    "for i in range(len(gsmf_z)-1):\n",
    "    dz = gsmf_z[i+1]-gsmf_z[i]\n",
    "    ax.arrow(gsmf_z[i+1], MergerMass[i], -0.5*dz, 0, head_width=0.07, head_length=0.1, \n",
    "             fc='k', ec='k')\n",
    "    \n",
    "# Plot the cumulative stellar mass growth from merging\n",
    "cumsum_l = np.log10(np.cumsum(np.power(10, (MergerMass - e_MergerMass[:,1])[::-1])))\n",
    "cumsum_u = np.log10(np.cumsum(np.power(10, (MergerMass + e_MergerMass[:,0])[::-1])))\n",
    "cumsum_av = np.log10(np.cumsum(np.power(10, MergerMass[::-1])))\n",
    "\n",
    "ax.plot(gsmf_z[:-1][::-1], cumsum_l, ':b', lw=2)\n",
    "ax.plot(gsmf_z[:-1][::-1], cumsum_u, ':b', lw=2)\n",
    "ax.plot(gsmf_z[:-1][::-1], cumsum_av, '--b', lw=2, label='cumulative mass brought in through mergers')\n",
    "\n",
    "\n",
    "ax.set_xlim(-0.1, 3.6)\n",
    "ax.set_ylim(8., 11.5,)\n",
    "ax.set_ylabel('log stellar mass'), ax.set_xlabel('redshift')\n",
    "ax.legend(loc='best', fontsize=12, numpoints=1).draw_frame(False)\n",
    "\n",
    "print 'Over entire redshift range mass from these mergers is: {0:1.2f} (+{1:1.2f} -{2:1.2f}) log(M*/M_sol)'.format(\n",
    "            cumsum_av[-1], cumsum_u[-1]-cumsum_av[-1], cumsum_av[-1]-cumsum_l[-1])"
   ]
  },
  {
   "cell_type": "markdown",
   "metadata": {
    "collapsed": true
   },
   "source": [
    "The red points show the average stellar mass of a primary sample galaxy. The black points show the average stellar mass brought in through mergers down to a 1:$\\mu$ stellar mass ratio in that redshift (time) bin. The blue dashed line is the cumulative stellar mass brought in through mergers, with the 1$\\sigma$ uncertainty denoted by the blue dotted lines."
   ]
  },
  {
   "cell_type": "code",
   "execution_count": null,
   "metadata": {
    "collapsed": true
   },
   "outputs": [],
   "source": []
  }
 ],
 "metadata": {
  "kernelspec": {
   "display_name": "Python 2",
   "language": "python",
   "name": "python2"
  },
  "language_info": {
   "codemirror_mode": {
    "name": "ipython",
    "version": 2
   },
   "file_extension": ".py",
   "mimetype": "text/x-python",
   "name": "python",
   "nbconvert_exporter": "python",
   "pygments_lexer": "ipython2",
   "version": "2.7.11"
  }
 },
 "nbformat": 4,
 "nbformat_minor": 0
}
